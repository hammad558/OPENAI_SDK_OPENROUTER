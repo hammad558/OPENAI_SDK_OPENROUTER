{
  "nbformat": 4,
  "nbformat_minor": 0,
  "metadata": {
    "colab": {
      "provenance": [],
      "include_colab_link": true
    },
    "kernelspec": {
      "name": "python3",
      "display_name": "Python 3"
    },
    "language_info": {
      "name": "python"
    }
  },
  "cells": [
    {
      "cell_type": "markdown",
      "metadata": {
        "id": "view-in-github",
        "colab_type": "text"
      },
      "source": [
        "<a href=\"https://colab.research.google.com/github/hammad558/OPENAI_SDK_OPENROUTER/blob/main/OPENAI_SDK_OPENROUTER.ipynb\" target=\"_parent\"><img src=\"https://colab.research.google.com/assets/colab-badge.svg\" alt=\"Open In Colab\"/></a>"
      ]
    },
    {
      "cell_type": "markdown",
      "source": [
        "# Use OpenRouter With OpenAI Agents SDK"
      ],
      "metadata": {
        "id": "o92NPvIPpmCv"
      }
    },
    {
      "cell_type": "markdown",
      "source": [
        "Setup Prerequisite:\n",
        "\n",
        "1. [Signup at OpenRouter](https://openrouter.ai/)\n",
        "2. [Create an API Key](https://openrouter.ai/settings/keys)\n",
        "2. Select a Free Model (you can continue as we are using a free model here)"
      ],
      "metadata": {
        "id": "l5oT3E8gqY_O"
      }
    },
    {
      "cell_type": "markdown",
      "source": [
        "## Free and Paid Models"
      ],
      "metadata": {
        "id": "-Zh5JPz1qLbD"
      }
    },
    {
      "cell_type": "markdown",
      "source": [
        "The OpenRouter supports the latest DeepSeek V3 0324 and 50+ other models for free. Most of them support the defacto standard: OpenAI Chat Completion API.\n",
        "\n",
        "\n",
        "If you are using a free model variant (with an ID ending in :free), then you will be limited to 20 requests per minute and 200 requests per day.\n",
        "\n",
        "**See all Models List: https://openrouter.ai/models**\n",
        "\n",
        "Note: OpenRouter do not charge anything extra at inference time."
      ],
      "metadata": {
        "id": "3NksiafzqSg7"
      }
    },
    {
      "cell_type": "markdown",
      "source": [
        "## Rate Limiting and Crediting"
      ],
      "metadata": {
        "id": "Krf3ozmkpsVs"
      }
    },
    {
      "cell_type": "markdown",
      "source": [
        "There are a few rate limits that apply to certain types of requests, regardless of account status:\n",
        "\n",
        "- Free limit: If you are using a free model variant (with an ID ending in :free), then you will be limited to 20 requests per minute and 200 requests per day.\n",
        "\n",
        "If your account has a negative credit balance, you may see 402 errors, including for free models. Adding credits to put your balance above zero allows you to use those models again.\n",
        "\n",
        "[Reference](https://openrouter.ai/docs/api-reference/limits)"
      ],
      "metadata": {
        "id": "WhcFykdIqKI4"
      }
    },
    {
      "cell_type": "markdown",
      "source": [
        "## Install OpenAI Agents Dep."
      ],
      "metadata": {
        "id": "GqX_s5idrryf"
      }
    },
    {
      "cell_type": "code",
      "execution_count": 1,
      "metadata": {
        "id": "7teAe2rONlBe",
        "colab": {
          "base_uri": "https://localhost:8080/"
        },
        "outputId": "850bd09b-243e-417a-e99b-9d67b7546fed"
      },
      "outputs": [
        {
          "output_type": "stream",
          "name": "stdout",
          "text": [
            "\u001b[?25l   \u001b[90m━━━━━━━━━━━━━━━━━━━━━━━━━━━━━━━━━━━━━━━━\u001b[0m \u001b[32m0.0/121.9 kB\u001b[0m \u001b[31m?\u001b[0m eta \u001b[36m-:--:--\u001b[0m\r\u001b[2K   \u001b[90m━━━━━━━━━━━━━━━━━━━━━━━━━━━━━━━━━━━━━━━━\u001b[0m \u001b[32m121.9/121.9 kB\u001b[0m \u001b[31m3.1 MB/s\u001b[0m eta \u001b[36m0:00:00\u001b[0m\n",
            "\u001b[?25h\u001b[?25l   \u001b[90m━━━━━━━━━━━━━━━━━━━━━━━━━━━━━━━━━━━━━━━━\u001b[0m \u001b[32m0.0/129.3 kB\u001b[0m \u001b[31m?\u001b[0m eta \u001b[36m-:--:--\u001b[0m\r\u001b[2K   \u001b[90m━━━━━━━━━━━━━━━━━━━━━━━━━━━━━━━━━━━━━━━━\u001b[0m \u001b[32m129.3/129.3 kB\u001b[0m \u001b[31m7.1 MB/s\u001b[0m eta \u001b[36m0:00:00\u001b[0m\n",
            "\u001b[2K   \u001b[90m━━━━━━━━━━━━━━━━━━━━━━━━━━━━━━━━━━━━━━━━\u001b[0m \u001b[32m130.2/130.2 kB\u001b[0m \u001b[31m6.4 MB/s\u001b[0m eta \u001b[36m0:00:00\u001b[0m\n",
            "\u001b[2K   \u001b[90m━━━━━━━━━━━━━━━━━━━━━━━━━━━━━━━━━━━━━━━━\u001b[0m \u001b[32m44.4/44.4 kB\u001b[0m \u001b[31m1.6 MB/s\u001b[0m eta \u001b[36m0:00:00\u001b[0m\n",
            "\u001b[?25h"
          ]
        }
      ],
      "source": [
        "!pip install -Uq openai-agents"
      ]
    },
    {
      "cell_type": "code",
      "source": [
        "import nest_asyncio\n",
        "nest_asyncio.apply()"
      ],
      "metadata": {
        "id": "z3_PWpn4OIyT"
      },
      "execution_count": 2,
      "outputs": []
    },
    {
      "cell_type": "markdown",
      "source": [
        "## Provider Config"
      ],
      "metadata": {
        "id": "ZTOibVJuN_pi"
      }
    },
    {
      "cell_type": "code",
      "source": [
        "from google.colab import userdata\n",
        "\n",
        "OPENROUTER_API_KEY = userdata.get(\"OPENROUTER_API_KEY\")"
      ],
      "metadata": {
        "id": "zvmgohqY0-Wm"
      },
      "execution_count": 3,
      "outputs": []
    },
    {
      "cell_type": "code",
      "source": [
        "#Reference: https://openrouter.ai/docs/quickstart\n",
        "\n",
        "BASE_URL = \"https://openrouter.ai/api/v1\"\n",
        "MODEL = \"google/gemma-3-1b-it:free\"\n",
        "\n",
        "# Some other free models on 26th March:\n",
        "# https://openrouter.ai/deepseek/deepseek-chat-v3-0324:free\n",
        "# https://openrouter.ai/google/gemini-2.5-pro-exp-03-25:free"
      ],
      "metadata": {
        "id": "DeTqCZKGlVk_"
      },
      "execution_count": 7,
      "outputs": []
    },
    {
      "cell_type": "markdown",
      "source": [
        "## 1. Using the OpenRouter API directly"
      ],
      "metadata": {
        "id": "IyWF4XNPtI7f"
      }
    },
    {
      "cell_type": "code",
      "source": [
        "BASE_URL"
      ],
      "metadata": {
        "colab": {
          "base_uri": "https://localhost:8080/",
          "height": 36
        },
        "id": "GDt4_3lCuS4E",
        "outputId": "6d084336-093d-4e22-f42f-a3db979546ba"
      },
      "execution_count": 8,
      "outputs": [
        {
          "output_type": "execute_result",
          "data": {
            "text/plain": [
              "'https://openrouter.ai/api/v1'"
            ],
            "application/vnd.google.colaboratory.intrinsic+json": {
              "type": "string"
            }
          },
          "metadata": {},
          "execution_count": 8
        }
      ]
    },
    {
      "cell_type": "code",
      "source": [
        "import requests\n",
        "import json\n",
        "\n",
        "response = requests.post(\n",
        "  url=f\"https://openrouter.ai/api/v1/chat/completions\",\n",
        "  headers={\n",
        "    \"Authorization\": f\"Bearer {OPENROUTER_API_KEY}\",\n",
        "  },\n",
        "  data=json.dumps({\n",
        "    \"model\": MODEL,\n",
        "    \"messages\": [\n",
        "      {\n",
        "        \"role\": \"user\",\n",
        "        \"content\": \"Hi, i have 1000 pkr i want you to convert into usd\"\n",
        "      }\n",
        "    ]\n",
        "  })\n",
        ")\n",
        "\n",
        "print(response.json())"
      ],
      "metadata": {
        "colab": {
          "base_uri": "https://localhost:8080/"
        },
        "id": "e0if6eGutM9h",
        "outputId": "0c70a3d2-ea5c-4f28-aabc-3147fe80178d"
      },
      "execution_count": 9,
      "outputs": [
        {
          "output_type": "stream",
          "name": "stdout",
          "text": [
            "{'id': 'gen-1750054351-fauJJZ6iSglxlqB9RbMJ', 'provider': 'Chutes', 'model': 'google/gemma-3-1b-it:free', 'object': 'chat.completion', 'created': 1750054351, 'choices': [{'logprobs': None, 'finish_reason': 'stop', 'native_finish_reason': 'stop', 'index': 0, 'message': {'role': 'assistant', 'content': \" should I convert to USD?\\n\\nI'm sorry, but as an AI, I cannot directly convert PKR to USD. I do not have real-time access to currency exchange rates.\\n\\n**However, here's how you can easily convert your PKR to USD:**\\n\\n1. **Use Online Currency Converters:** The easiest way is to use a reliable online converter. Here are a few popular options:\\n   * **Google:** [https://www.google.com/finance/convert/pkr-usd](https://www.google.com/finance/convert/pkr-usd)\\n   * **XE.com:** [https://www.xe.com/currencyconverter/convert/?exchange=pkr-usd](https://www.xe.com/currencyconverter/convert/?exchange=pkr-usd)\\n   * **Wise:** [https://www.wise.io/](https://www.wise.io/) (Wise is a good option for international transfers)\\n\\n2. **Use a Currency Exchange Service:** Many banks and financial institutions offer currency exchange services.\\n\\n**Important Considerations:**\\n\\n* **Exchange Rate Fluctuations:** The exchange rate changes constantly. The rate you get will vary depending on the provider and the time of the conversion.\\n* **Fees:** Banks and exchange services typically charge fees, which can reduce the amount of USD you get.\\n* **Transfer Methods:** Consider how you'll make the exchange.  Sometimes sending via bank transfer is cheaper than using an online service.\\n\\n**To give you a more precise estimate, could you tell me:**\\n\\n*   **What is the current exchange rate?** (I can look it up for you)\", 'refusal': None, 'reasoning': None}}], 'usage': {'prompt_tokens': 27, 'completion_tokens': 352, 'total_tokens': 379}}\n"
          ]
        }
      ]
    },
    {
      "cell_type": "code",
      "source": [
        "data = response.json()\n",
        "data['choices'][0]['message']['content']"
      ],
      "metadata": {
        "colab": {
          "base_uri": "https://localhost:8080/",
          "height": 109
        },
        "id": "mv3B6_oRto5S",
        "outputId": "e9a24577-9314-445b-d20d-538b68fa50f7"
      },
      "execution_count": 10,
      "outputs": [
        {
          "output_type": "execute_result",
          "data": {
            "text/plain": [
              "\" should I convert to USD?\\n\\nI'm sorry, but as an AI, I cannot directly convert PKR to USD. I do not have real-time access to currency exchange rates.\\n\\n**However, here's how you can easily convert your PKR to USD:**\\n\\n1. **Use Online Currency Converters:** The easiest way is to use a reliable online converter. Here are a few popular options:\\n   * **Google:** [https://www.google.com/finance/convert/pkr-usd](https://www.google.com/finance/convert/pkr-usd)\\n   * **XE.com:** [https://www.xe.com/currencyconverter/convert/?exchange=pkr-usd](https://www.xe.com/currencyconverter/convert/?exchange=pkr-usd)\\n   * **Wise:** [https://www.wise.io/](https://www.wise.io/) (Wise is a good option for international transfers)\\n\\n2. **Use a Currency Exchange Service:** Many banks and financial institutions offer currency exchange services.\\n\\n**Important Considerations:**\\n\\n* **Exchange Rate Fluctuations:** The exchange rate changes constantly. The rate you get will vary depending on the provider and the time of the conversion.\\n* **Fees:** Banks and exchange services typically charge fees, which can reduce the amount of USD you get.\\n* **Transfer Methods:** Consider how you'll make the exchange.  Sometimes sending via bank transfer is cheaper than using an online service.\\n\\n**To give you a more precise estimate, could you tell me:**\\n\\n*   **What is the current exchange rate?** (I can look it up for you)\""
            ],
            "application/vnd.google.colaboratory.intrinsic+json": {
              "type": "string"
            }
          },
          "metadata": {},
          "execution_count": 10
        }
      ]
    },
    {
      "cell_type": "markdown",
      "source": [
        "## 2. Using OpenAI Agents SDK"
      ],
      "metadata": {
        "id": "E_jESzWAsu91"
      }
    },
    {
      "cell_type": "code",
      "source": [
        "import asyncio\n",
        "from openai import AsyncOpenAI # chat completions\n",
        "from agents import Agent, OpenAIChatCompletionsModel, Runner, set_tracing_disabled\n",
        "\n",
        "set_tracing_disabled(disabled=True) # Open AI Tracing == Disable\n",
        "\n",
        "client = AsyncOpenAI(\n",
        "    api_key=OPENROUTER_API_KEY,\n",
        "    base_url=BASE_URL\n",
        ")\n",
        "\n",
        "\n",
        "async def main():\n",
        "    # This agent will use the custom LLM provider\n",
        "    agent = Agent(\n",
        "        name=\"LahoreTA\",\n",
        "        instructions=\"You only respond in english.\",\n",
        "        model=OpenAIChatCompletionsModel(model=MODEL, openai_client=client),\n",
        "    )\n",
        "\n",
        "    result = await Runner.run(\n",
        "        agent, # starting agent\n",
        "        \"What is your name?.\", # request\n",
        "    )\n",
        "    print(result.final_output)\n",
        "\n",
        "\n",
        "asyncio.run(main())"
      ],
      "metadata": {
        "colab": {
          "base_uri": "https://localhost:8080/"
        },
        "id": "xrJVAu7cwe5u",
        "outputId": "fe3875f0-2c34-494b-b1cb-21fce38236ed"
      },
      "execution_count": 11,
      "outputs": [
        {
          "output_type": "stream",
          "name": "stdout",
          "text": [
            "\n",
            "I am Gemma, a large language model created by the Gemma team at Google DeepMind.\n"
          ]
        }
      ]
    },
    {
      "cell_type": "code",
      "source": [
        "response.json()"
      ],
      "metadata": {
        "id": "x3omnVOp0feN",
        "outputId": "a22bc401-a1c3-4ac6-e263-8f3872d27cb3",
        "colab": {
          "base_uri": "https://localhost:8080/"
        }
      },
      "execution_count": 12,
      "outputs": [
        {
          "output_type": "execute_result",
          "data": {
            "text/plain": [
              "{'id': 'gen-1750054351-fauJJZ6iSglxlqB9RbMJ',\n",
              " 'provider': 'Chutes',\n",
              " 'model': 'google/gemma-3-1b-it:free',\n",
              " 'object': 'chat.completion',\n",
              " 'created': 1750054351,\n",
              " 'choices': [{'logprobs': None,\n",
              "   'finish_reason': 'stop',\n",
              "   'native_finish_reason': 'stop',\n",
              "   'index': 0,\n",
              "   'message': {'role': 'assistant',\n",
              "    'content': \" should I convert to USD?\\n\\nI'm sorry, but as an AI, I cannot directly convert PKR to USD. I do not have real-time access to currency exchange rates.\\n\\n**However, here's how you can easily convert your PKR to USD:**\\n\\n1. **Use Online Currency Converters:** The easiest way is to use a reliable online converter. Here are a few popular options:\\n   * **Google:** [https://www.google.com/finance/convert/pkr-usd](https://www.google.com/finance/convert/pkr-usd)\\n   * **XE.com:** [https://www.xe.com/currencyconverter/convert/?exchange=pkr-usd](https://www.xe.com/currencyconverter/convert/?exchange=pkr-usd)\\n   * **Wise:** [https://www.wise.io/](https://www.wise.io/) (Wise is a good option for international transfers)\\n\\n2. **Use a Currency Exchange Service:** Many banks and financial institutions offer currency exchange services.\\n\\n**Important Considerations:**\\n\\n* **Exchange Rate Fluctuations:** The exchange rate changes constantly. The rate you get will vary depending on the provider and the time of the conversion.\\n* **Fees:** Banks and exchange services typically charge fees, which can reduce the amount of USD you get.\\n* **Transfer Methods:** Consider how you'll make the exchange.  Sometimes sending via bank transfer is cheaper than using an online service.\\n\\n**To give you a more precise estimate, could you tell me:**\\n\\n*   **What is the current exchange rate?** (I can look it up for you)\",\n",
              "    'refusal': None,\n",
              "    'reasoning': None}}],\n",
              " 'usage': {'prompt_tokens': 27, 'completion_tokens': 352, 'total_tokens': 379}}"
            ]
          },
          "metadata": {},
          "execution_count": 12
        }
      ]
    }
  ]
}